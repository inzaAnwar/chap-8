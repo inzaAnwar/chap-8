{
 "cells": [
  {
   "cell_type": "code",
   "execution_count": 2,
   "id": "37d833d7",
   "metadata": {},
   "outputs": [
    {
     "name": "stdout",
     "output_type": "stream",
     "text": [
      "8\n",
      "hobi\n"
     ]
    }
   ],
   "source": [
    "#overwrite\n",
    "x=9\n",
    "x=8\n",
    "print(x)\n",
    "b='inza'\n",
    "b='hobi'\n",
    "print(b)\n"
   ]
  },
  {
   "cell_type": "code",
   "execution_count": null,
   "id": "a6600bb2",
   "metadata": {},
   "outputs": [],
   "source": []
  },
  {
   "cell_type": "code",
   "execution_count": 5,
   "id": "64369af2",
   "metadata": {},
   "outputs": [
    {
     "name": "stdout",
     "output_type": "stream",
     "text": [
      "['inza', 'rabia', 'ramza']\n",
      "['red', 'black', 'blue', 'green']\n",
      "['age', 56, 9.0]\n"
     ]
    }
   ],
   "source": [
    "# creating a list\n",
    "a=[\"inza\",\"rabia\",\"ramza\"]\n",
    "print(a)\n",
    "b=[\"red\",\"black\",\"blue\",\"green\"]\n",
    "print(b)\n",
    "c=[\"age\",56,9.0] # we are using here different datatype value and store in one vaiable\n",
    "print(c)"
   ]
  },
  {
   "cell_type": "code",
   "execution_count": 6,
   "id": "62e4208c",
   "metadata": {},
   "outputs": [
    {
     "name": "stdout",
     "output_type": "stream",
     "text": [
      "[]\n"
     ]
    }
   ],
   "source": [
    "a=[]\n",
    "print(a)"
   ]
  },
  {
   "cell_type": "raw",
   "id": "7b761ded",
   "metadata": {},
   "source": []
  },
  {
   "cell_type": "code",
   "execution_count": 7,
   "id": "3ec4a14f",
   "metadata": {},
   "outputs": [
    {
     "name": "stdout",
     "output_type": "stream",
     "text": [
      "1\n",
      "2\n",
      "3\n",
      "4\n",
      "5\n"
     ]
    }
   ],
   "source": [
    "# we are already using list in for loop\n",
    "for i in [1,2,3,4,5]:\n",
    "    print(i)"
   ]
  },
  {
   "cell_type": "code",
   "execution_count": 10,
   "id": "98f809e1",
   "metadata": {},
   "outputs": [
    {
     "name": "stdout",
     "output_type": "stream",
     "text": [
      "Happy new year 2024 my friend inza\n",
      "Happy new year 2024 my friend seokjin\n",
      "Happy new year 2024 my friend j-hope\n",
      "Happy new year 2024 my friend yunki\n",
      "Happy new year 2024 my friend Rm\n",
      "Happy new year 2024 my friend v\n",
      "Happy new year 2024 my friend jk\n"
     ]
    }
   ],
   "source": [
    "#list and definit loops are best friend/pals\n",
    "friends=[\"inza\",\"seokjin\",\"j-hope\",\"yunki\",\"Rm\",\"v\",\"jk\"]\n",
    "for i in friends:\n",
    "    print(\"Happy new year 2024 my friend\",i)"
   ]
  },
  {
   "cell_type": "code",
   "execution_count": 14,
   "id": "a7189d85",
   "metadata": {},
   "outputs": [
    {
     "name": "stdout",
     "output_type": "stream",
     "text": [
      "inza\n",
      "rabia\n",
      "ramza\n"
     ]
    }
   ],
   "source": [
    "#looking inside the list each element have index\n",
    "friends=[\"inza\",\"rabia\",\"ramza\"]\n",
    "print(friends[0])\n",
    "print(friends[1])\n",
    "print(friends[2])"
   ]
  },
  {
   "cell_type": "code",
   "execution_count": 15,
   "id": "9f4a4c78",
   "metadata": {},
   "outputs": [
    {
     "ename": "TypeError",
     "evalue": "'str' object does not support item assignment",
     "output_type": "error",
     "traceback": [
      "\u001b[1;31m---------------------------------------------------------------------------\u001b[0m",
      "\u001b[1;31mTypeError\u001b[0m                                 Traceback (most recent call last)",
      "Cell \u001b[1;32mIn[15], line 2\u001b[0m\n\u001b[0;32m      1\u001b[0m fruit\u001b[38;5;241m=\u001b[39m\u001b[38;5;124m'\u001b[39m\u001b[38;5;124mbanana\u001b[39m\u001b[38;5;124m'\u001b[39m\n\u001b[1;32m----> 2\u001b[0m fruit[\u001b[38;5;241m0\u001b[39m]\u001b[38;5;241m=\u001b[39m\u001b[38;5;124m'\u001b[39m\u001b[38;5;124mB\u001b[39m\u001b[38;5;124m'\u001b[39m\n",
      "\u001b[1;31mTypeError\u001b[0m: 'str' object does not support item assignment"
     ]
    }
   ],
   "source": [
    "#Strings re immutable we cannaot change it\n",
    "fruit='banana'\n",
    "fruit[0]='B'"
   ]
  },
  {
   "cell_type": "code",
   "execution_count": 16,
   "id": "d6af1369",
   "metadata": {},
   "outputs": [
    {
     "name": "stdout",
     "output_type": "stream",
     "text": [
      "BANANA\n"
     ]
    }
   ],
   "source": [
    "# we are usinh here lower and upper fun\n",
    "fruit='banana'\n",
    "a=fruit.upper()\n",
    "print(a)"
   ]
  },
  {
   "cell_type": "code",
   "execution_count": 17,
   "id": "1b2f0131",
   "metadata": {},
   "outputs": [
    {
     "name": "stdout",
     "output_type": "stream",
     "text": [
      "[1, 2, 3, 4, 10]\n"
     ]
    }
   ],
   "source": [
    "# change the elemnts of list\n",
    "a=[1,2,3,4,5]\n",
    "a[4]=10\n",
    "print(a)"
   ]
  },
  {
   "cell_type": "code",
   "execution_count": 19,
   "id": "382d6e00",
   "metadata": {},
   "outputs": [
    {
     "name": "stdout",
     "output_type": "stream",
     "text": [
      "4\n",
      "3\n"
     ]
    }
   ],
   "source": [
    "#using len fun()\n",
    "a='inza'\n",
    "print(len(a))\n",
    "b=[\"inza\",90,8.0]\n",
    "print(len(b))"
   ]
  },
  {
   "cell_type": "code",
   "execution_count": 22,
   "id": "6c6a089f",
   "metadata": {},
   "outputs": [
    {
     "name": "stdout",
     "output_type": "stream",
     "text": [
      "4\n"
     ]
    }
   ],
   "source": [
    "#using range()fun\n",
    "a=[\"inza\",\"rabia\",\"ali\",\"ahmad\"]\n",
    "print(len(a))\n"
   ]
  },
  {
   "cell_type": "code",
   "execution_count": 27,
   "id": "b13b4da8",
   "metadata": {},
   "outputs": [
    {
     "name": "stdout",
     "output_type": "stream",
     "text": [
      "range(0, 4)\n",
      "3\n",
      "range(0, 3)\n"
     ]
    }
   ],
   "source": [
    "print(range(4))\n",
    "friends = ['Joseph', 'Glenn', 'Sally']\n",
    "print(len(friends))\n",
    "print(range(len(friends)))\n",
    "\n"
   ]
  },
  {
   "cell_type": "code",
   "execution_count": 29,
   "id": "f821aa05",
   "metadata": {},
   "outputs": [
    {
     "name": "stdout",
     "output_type": "stream",
     "text": [
      "happy new yaer inza\n",
      "happy new yaer rabia\n",
      "happy new yaer ramza\n"
     ]
    }
   ],
   "source": [
    "friend=[\"inza\",\"rabia\",\"ramza\"]\n",
    "for i in friend:\n",
    "    print(\"happy new yaer\",i)"
   ]
  },
  {
   "cell_type": "code",
   "execution_count": 30,
   "id": "4eff2661",
   "metadata": {},
   "outputs": [
    {
     "name": "stdout",
     "output_type": "stream",
     "text": [
      "happy new year inza\n",
      "happy new year rabia\n",
      "happy new year ramza\n"
     ]
    }
   ],
   "source": [
    "friend=[\"inza\",\"rabia\",\"ramza\"]\n",
    "for i in range(len(friend)):\n",
    "    i=friend[i]\n",
    "    print(\"happy new year\",i)"
   ]
  },
  {
   "cell_type": "code",
   "execution_count": 31,
   "id": "cddf9ae2",
   "metadata": {},
   "outputs": [
    {
     "name": "stdout",
     "output_type": "stream",
     "text": [
      "[1, 2, 3, 'ina', 'mijiwo', 'inza']\n"
     ]
    }
   ],
   "source": [
    "#concatination\n",
    "a=[1,2,3]\n",
    "b=[\"ina\",\"mijiwo\",\"inza\"]\n",
    "c=a+b\n",
    "print(c)"
   ]
  },
  {
   "cell_type": "code",
   "execution_count": 33,
   "id": "0d327980",
   "metadata": {},
   "outputs": [
    {
     "data": {
      "text/plain": [
       "[2, 3, 4, 5, 6, 7]"
      ]
     },
     "execution_count": 33,
     "metadata": {},
     "output_type": "execute_result"
    }
   ],
   "source": [
    "#slice operator in ,list\n",
    "a=[1,2,3,4,5,6,7,8,9,10]\n",
    "a[1:7]"
   ]
  },
  {
   "cell_type": "code",
   "execution_count": 34,
   "id": "29126baa",
   "metadata": {},
   "outputs": [
    {
     "data": {
      "text/plain": [
       "[10]"
      ]
     },
     "execution_count": 34,
     "metadata": {},
     "output_type": "execute_result"
    }
   ],
   "source": [
    "a=[1,2,3,4,5,6,7,8,9,10]\n",
    "a[9:10]"
   ]
  },
  {
   "cell_type": "code",
   "execution_count": 35,
   "id": "5b528e91",
   "metadata": {},
   "outputs": [
    {
     "data": {
      "text/plain": [
       "[1, 2, 3, 4, 5, 6, 7, 8, 9]"
      ]
     },
     "execution_count": 35,
     "metadata": {},
     "output_type": "execute_result"
    }
   ],
   "source": [
    "a=[1,2,3,4,5,6,7,8,9,10]\n",
    "a[:9]"
   ]
  },
  {
   "cell_type": "code",
   "execution_count": 36,
   "id": "a5a1e198",
   "metadata": {},
   "outputs": [
    {
     "data": {
      "text/plain": [
       "[10]"
      ]
     },
     "execution_count": 36,
     "metadata": {},
     "output_type": "execute_result"
    }
   ],
   "source": [
    "a=[1,2,3,4,5,6,7,8,9,10]\n",
    "a[9:]"
   ]
  },
  {
   "cell_type": "code",
   "execution_count": 37,
   "id": "1f7330f6",
   "metadata": {},
   "outputs": [
    {
     "data": {
      "text/plain": [
       "[2, 3, 4, 5, 6, 7, 8, 9, 10]"
      ]
     },
     "execution_count": 37,
     "metadata": {},
     "output_type": "execute_result"
    }
   ],
   "source": [
    "a=[1,2,3,4,5,6,7,8,9,10]\n",
    "a[1:]"
   ]
  },
  {
   "cell_type": "code",
   "execution_count": 3,
   "id": "ee3a93e3",
   "metadata": {},
   "outputs": [
    {
     "name": "stdout",
     "output_type": "stream",
     "text": [
      "['Inza', 'Book']\n",
      "['Inza', 'Book', 190000]\n",
      "3\n"
     ]
    }
   ],
   "source": [
    "# building a new list and using append fun()\n",
    "a=list()\n",
    "a.append('Inza')\n",
    "a.append('Book')\n",
    "print(a)\n",
    "a.append(190000)\n",
    "print(a)\n",
    "print(len(a))"
   ]
  },
  {
   "cell_type": "code",
   "execution_count": 4,
   "id": "02d41028",
   "metadata": {},
   "outputs": [
    {
     "data": {
      "text/plain": [
       "False"
      ]
     },
     "execution_count": 4,
     "metadata": {},
     "output_type": "execute_result"
    }
   ],
   "source": [
    "# check the list value is in list or not using laogical operator\n",
    "a=[1,2,3,4,5,5,6,7,8]\n",
    "9 in a\n"
   ]
  },
  {
   "cell_type": "code",
   "execution_count": 5,
   "id": "b05ea8df",
   "metadata": {},
   "outputs": [
    {
     "data": {
      "text/plain": [
       "True"
      ]
     },
     "execution_count": 5,
     "metadata": {},
     "output_type": "execute_result"
    }
   ],
   "source": [
    "# check the list value is in list or not using laogical operator\n",
    "a=[1,2,3,4,5,5,6,7,8]\n",
    "6 in a"
   ]
  },
  {
   "cell_type": "code",
   "execution_count": 6,
   "id": "34647e9e",
   "metadata": {},
   "outputs": [
    {
     "name": "stdout",
     "output_type": "stream",
     "text": [
      "[1, 2, 3, 4, 5, 5, 6, 7, 8]\n"
     ]
    }
   ],
   "source": [
    "a=[1,2,3,4,5,5,6,7,8]\n",
    "print(a)"
   ]
  },
  {
   "cell_type": "code",
   "execution_count": 7,
   "id": "d2bdec6d",
   "metadata": {},
   "outputs": [
    {
     "name": "stdout",
     "output_type": "stream",
     "text": [
      "['gucci', 'channel', 'clavin', 'Lv']\n",
      "['Lv', 'channel', 'clavin', 'gucci']\n"
     ]
    }
   ],
   "source": [
    "a=[\"gucci\",\"channel\",\"clavin\",\"Lv\"]\n",
    "print(a)\n",
    "a.sort()\n",
    "print(a)"
   ]
  },
  {
   "cell_type": "code",
   "execution_count": 8,
   "id": "7fdc987b",
   "metadata": {},
   "outputs": [
    {
     "name": "stdout",
     "output_type": "stream",
     "text": [
      "11\n",
      "10\n",
      "0\n",
      "55\n",
      "5.0\n"
     ]
    }
   ],
   "source": [
    "#using build in fun in list\n",
    "a=[1,2,3,4,5,6,7,8,9,0,10]\n",
    "print(len(a))\n",
    "print(max(a))\n",
    "print(min(a))\n",
    "print(sum(a))\n",
    "print(sum(a)/len(a))"
   ]
  },
  {
   "cell_type": "code",
   "execution_count": 10,
   "id": "d2fa6f62",
   "metadata": {},
   "outputs": [
    {
     "name": "stdout",
     "output_type": "stream",
     "text": [
      "enter a  number7.0\n",
      "enter a  number9.0\n",
      "enter a  number10\n",
      "enter a  numberdone\n",
      "average 8.666666666666666\n"
     ]
    }
   ],
   "source": [
    "total=0\n",
    "count=0\n",
    "while True:\n",
    "    inp= input(\"enter a  number\")\n",
    "    if inp == 'done':\n",
    "        break\n",
    "    value=float(inp)\n",
    "    total=total+value\n",
    "    count=count+1\n",
    "avg=total/count\n",
    "print(\"average\",avg)"
   ]
  },
  {
   "cell_type": "code",
   "execution_count": 11,
   "id": "1dd83214",
   "metadata": {},
   "outputs": [
    {
     "name": "stdout",
     "output_type": "stream",
     "text": [
      "enter a number10\n",
      "enter a number20\n",
      "enter a number30\n",
      "enter a number40\n",
      "enter a number50\n",
      "enter a numberdone\n",
      "average 30.0\n"
     ]
    }
   ],
   "source": [
    "#some upper program through list\n",
    "a=list()\n",
    "while True:\n",
    "    inp=input(\"enter a number\")\n",
    "    if inp == 'done':\n",
    "        break\n",
    "    value=float(inp)\n",
    "    a.append(value)\n",
    "avg=sum(a)/len(a)\n",
    "print(\"average\",avg)\n",
    "    "
   ]
  },
  {
   "cell_type": "code",
   "execution_count": 14,
   "id": "369b4753",
   "metadata": {},
   "outputs": [
    {
     "name": "stdout",
     "output_type": "stream",
     "text": [
      "['my', 'name', 'is', 'inza']\n",
      "4\n",
      "my\n",
      "my\n",
      "name\n",
      "is\n",
      "inza\n"
     ]
    }
   ],
   "source": [
    "a=\"my name is inza\"\n",
    "b=a.split()\n",
    "print(b)\n",
    "print(len(b))\n",
    "print(b[0])\n",
    "for w in b:\n",
    "    print(w)"
   ]
  },
  {
   "cell_type": "code",
   "execution_count": 21,
   "id": "05046eb1",
   "metadata": {},
   "outputs": [
    {
     "name": "stdout",
     "output_type": "stream",
     "text": [
      "['my:name:is:inza']\n",
      "1\n",
      "['my', 'name', 'is', 'inza']\n"
     ]
    }
   ],
   "source": [
    "a=\"my:name:is:inza\"\n",
    "b=a.split()\n",
    "print(b)\n",
    "print(len(b))\n",
    "b=a.split(':')\n",
    "print(b)"
   ]
  },
  {
   "cell_type": "code",
   "execution_count": 29,
   "id": "00bf48f4",
   "metadata": {},
   "outputs": [
    {
     "name": "stdout",
     "output_type": "stream",
     "text": [
      "['my', 'name', 'is', 'inza', 'and', 'am', 'bts', 'army']\n"
     ]
    }
   ],
   "source": [
    "a=\"my name is inza and am bts army\"\n",
    "b=a.split()\n",
    "print(b)"
   ]
  },
  {
   "cell_type": "code",
   "execution_count": 18,
   "id": "44c08e97",
   "metadata": {},
   "outputs": [
    {
     "name": "stdout",
     "output_type": "stream",
     "text": [
      "['my', 'name', 'is', 'inza']\n"
     ]
    }
   ],
   "source": [
    "a=\"my             name          is       inza\"\n",
    "b=a.split()\n",
    "print(b)"
   ]
  }
 ],
 "metadata": {
  "kernelspec": {
   "display_name": "Python 3 (ipykernel)",
   "language": "python",
   "name": "python3"
  },
  "language_info": {
   "codemirror_mode": {
    "name": "ipython",
    "version": 3
   },
   "file_extension": ".py",
   "mimetype": "text/x-python",
   "name": "python",
   "nbconvert_exporter": "python",
   "pygments_lexer": "ipython3",
   "version": "3.10.9"
  }
 },
 "nbformat": 4,
 "nbformat_minor": 5
}
